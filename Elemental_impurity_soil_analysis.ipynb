{
 "cells": [
  {
   "cell_type": "markdown",
   "id": "79372ad8-f9fe-4358-9c53-c2f7fe06f122",
   "metadata": {
    "tags": []
   },
   "source": [
    "# Concentrations of heavy metals in soil and grapevine leaf samples from vineyards in the Cape Winelands\n",
    "\n",
    "-----\n",
    "\n",
    "* Title: **Chemical dataset of levels of heavy metals in vineyard soil and grapevine leaf samples from Cape Winelands, South Africa**  \n",
    "* Author: **Amanda Mahlungulu, Learnmore Kambizi, Enoch A. Akinpelu, Felix Nchu**  \n",
    "* Department of Horticultural Sciences, Cape Peninsula University of Technology, Bellville Campus, Symphony Way, PO Box 1906, Bellville 7535, South Africa  \n",
    "* Received 8 February 2023, Revised 14 March 2023, Accepted 15 March 2023, Available online 21 March 2023, Version of Record 30 March 2023.   \n",
    "\n",
    "https://www.sciencedirect.com/science/article/pii/S2352340923002019#refdata001\n",
    "\n",
    "## Abstract\n",
    "\n",
    "The chemical analysis of vineyards is an essential tool for the early detection of risks, such as excessive fertilization and heavy metal and pesticide contamination in farm management. Soil and plant samples were collected in summer and winter from six different vineyards with varying agricultural practices in the Cape Winelands of the Western Cape Province, South Africa. The samples were pretreated in a microwave using CEM MARS 6™ Microwave Digestion and Extraction System (CEM Corporation, Matthews, NC, USA). Chemical element data were obtained using an inductively coupled plasma optical emission spectrometer (ICP-OES) (ICP Expert II, Agilent Technologies 720 ICP-OES). The data will be valuable for selecting and improving farming practices and gaining insights into the influence of seasonal variation and agricultural practices on the elemental accumulation in farmlands."
   ]
  },
  {
   "cell_type": "code",
   "execution_count": 1,
   "id": "b03b79b8-bf2f-42ec-91f9-92fd17914af4",
   "metadata": {},
   "outputs": [],
   "source": [
    "from sklearn.svm import OneClassSVM\n",
    "from sklearn.preprocessing import FunctionTransformer\n",
    "from sklearn.decomposition import PCA\n",
    "\n",
    "import pandas as pd\n",
    "import numpy as np\n",
    "import seaborn as sns\n",
    "import matplotlib.pyplot as plt\n",
    "\n",
    "def fourth_root(df):\n",
    "    return(df**(1/4))"
   ]
  },
  {
   "cell_type": "markdown",
   "id": "1165d8ef-5488-446b-b1e3-531c8359a0a8",
   "metadata": {},
   "source": [
    "## Data Preprocessing"
   ]
  },
  {
   "cell_type": "code",
   "execution_count": 2,
   "id": "eb503d6f-e0d0-4886-b996-9a3eb0bf8b8c",
   "metadata": {},
   "outputs": [
    {
     "data": {
      "text/html": [
       "<div>\n",
       "<style scoped>\n",
       "    .dataframe tbody tr th:only-of-type {\n",
       "        vertical-align: middle;\n",
       "    }\n",
       "\n",
       "    .dataframe tbody tr th {\n",
       "        vertical-align: top;\n",
       "    }\n",
       "\n",
       "    .dataframe thead th {\n",
       "        text-align: right;\n",
       "    }\n",
       "</style>\n",
       "<table border=\"1\" class=\"dataframe\">\n",
       "  <thead>\n",
       "    <tr style=\"text-align: right;\">\n",
       "      <th></th>\n",
       "      <th>Name of Farm</th>\n",
       "      <th>Coded Site name in thesis and publication</th>\n",
       "      <th>Annonimised name</th>\n",
       "      <th>Locality</th>\n",
       "      <th>Cultivation Method</th>\n",
       "      <th>Season</th>\n",
       "      <th>Coordinates</th>\n",
       "      <th>Unnamed: 7</th>\n",
       "      <th>B</th>\n",
       "      <th>V</th>\n",
       "      <th>...</th>\n",
       "      <th>Hg</th>\n",
       "      <th>Pb</th>\n",
       "      <th>Al</th>\n",
       "      <th>Fe</th>\n",
       "      <th>Ca</th>\n",
       "      <th>K</th>\n",
       "      <th>Mg</th>\n",
       "      <th>Na</th>\n",
       "      <th>P</th>\n",
       "      <th>Si</th>\n",
       "    </tr>\n",
       "  </thead>\n",
       "  <tbody>\n",
       "    <tr>\n",
       "      <th>0</th>\n",
       "      <td>NaN</td>\n",
       "      <td>NaN</td>\n",
       "      <td>NaN</td>\n",
       "      <td>NaN</td>\n",
       "      <td>NaN</td>\n",
       "      <td>NaN</td>\n",
       "      <td>NaN</td>\n",
       "      <td></td>\n",
       "      <td>ug/kg</td>\n",
       "      <td>ug/kg</td>\n",
       "      <td>...</td>\n",
       "      <td>ug/kg</td>\n",
       "      <td>ug/kg</td>\n",
       "      <td>ug/kg</td>\n",
       "      <td>ug/kg</td>\n",
       "      <td>ug/kg</td>\n",
       "      <td>ug/kg</td>\n",
       "      <td>ug/kg</td>\n",
       "      <td>ug/kg</td>\n",
       "      <td>ug/kg</td>\n",
       "      <td>ug/kg</td>\n",
       "    </tr>\n",
       "    <tr>\n",
       "      <th>1</th>\n",
       "      <td>NaN</td>\n",
       "      <td>NaN</td>\n",
       "      <td>NaN</td>\n",
       "      <td>NaN</td>\n",
       "      <td>NaN</td>\n",
       "      <td>NaN</td>\n",
       "      <td>NaN</td>\n",
       "      <td>LOQ  (Limit of quantification)</td>\n",
       "      <td>304.331121</td>\n",
       "      <td>0.88827</td>\n",
       "      <td>...</td>\n",
       "      <td>9.441312</td>\n",
       "      <td>2.560203</td>\n",
       "      <td>15</td>\n",
       "      <td>25</td>\n",
       "      <td>50</td>\n",
       "      <td>50</td>\n",
       "      <td>50</td>\n",
       "      <td>50</td>\n",
       "      <td>50</td>\n",
       "      <td>50</td>\n",
       "    </tr>\n",
       "    <tr>\n",
       "      <th>3</th>\n",
       "      <td>NaN</td>\n",
       "      <td>NaN</td>\n",
       "      <td>NaN</td>\n",
       "      <td>NaN</td>\n",
       "      <td>NaN</td>\n",
       "      <td>NaN</td>\n",
       "      <td>NaN</td>\n",
       "      <td>% Recovery on Certified Reference Material Tom...</td>\n",
       "      <td>113.335106</td>\n",
       "      <td>106.789041</td>\n",
       "      <td>...</td>\n",
       "      <td>107.330208</td>\n",
       "      <td>103.310833</td>\n",
       "      <td>107.3688</td>\n",
       "      <td>99.27482</td>\n",
       "      <td>97.681511</td>\n",
       "      <td>120.717379</td>\n",
       "      <td>102.902954</td>\n",
       "      <td>92.383496</td>\n",
       "      <td>101.250986</td>\n",
       "      <td>NaN</td>\n",
       "    </tr>\n",
       "    <tr>\n",
       "      <th>4</th>\n",
       "      <td>NaN</td>\n",
       "      <td>NaN</td>\n",
       "      <td>NaN</td>\n",
       "      <td>NaN</td>\n",
       "      <td>NaN</td>\n",
       "      <td>NaN</td>\n",
       "      <td>NaN</td>\n",
       "      <td>% Accuracy on internal QC</td>\n",
       "      <td>112.61725</td>\n",
       "      <td>105.846024</td>\n",
       "      <td>...</td>\n",
       "      <td>102.831584</td>\n",
       "      <td>99.240442</td>\n",
       "      <td>108.4</td>\n",
       "      <td>106.2</td>\n",
       "      <td>102.1</td>\n",
       "      <td>99.89</td>\n",
       "      <td>104.5</td>\n",
       "      <td>101.8</td>\n",
       "      <td>102.515152</td>\n",
       "      <td>102.5</td>\n",
       "    </tr>\n",
       "    <tr>\n",
       "      <th>6</th>\n",
       "      <td>Hidden</td>\n",
       "      <td>F</td>\n",
       "      <td>ODR1</td>\n",
       "      <td>Piketberg</td>\n",
       "      <td>Organic farm</td>\n",
       "      <td>Summer</td>\n",
       "      <td>Y =-32.96663, X =18.75134</td>\n",
       "      <td>NaN</td>\n",
       "      <td>19706.300168</td>\n",
       "      <td>78890.846396</td>\n",
       "      <td>...</td>\n",
       "      <td>21.780695</td>\n",
       "      <td>17824.978718</td>\n",
       "      <td>49953.358209</td>\n",
       "      <td>34291.044776</td>\n",
       "      <td>3480.410448</td>\n",
       "      <td>11016.791045</td>\n",
       "      <td>2233.675373</td>\n",
       "      <td>629.664179</td>\n",
       "      <td>621.735075</td>\n",
       "      <td>1507.929104</td>\n",
       "    </tr>\n",
       "  </tbody>\n",
       "</table>\n",
       "<p>5 rows × 34 columns</p>\n",
       "</div>"
      ],
      "text/plain": [
       "  Name of Farm Coded Site name in thesis and publication Annonimised name  \\\n",
       "0          NaN                                       NaN              NaN   \n",
       "1          NaN                                       NaN              NaN   \n",
       "3          NaN                                       NaN              NaN   \n",
       "4          NaN                                       NaN              NaN   \n",
       "6      Hidden                                          F             ODR1   \n",
       "\n",
       "    Locality Cultivation Method  Season               Coordinates   \\\n",
       "0        NaN                NaN     NaN                        NaN   \n",
       "1        NaN                NaN     NaN                        NaN   \n",
       "3        NaN                NaN     NaN                        NaN   \n",
       "4        NaN                NaN     NaN                        NaN   \n",
       "6  Piketberg       Organic farm  Summer  Y =-32.96663, X =18.75134   \n",
       "\n",
       "                                          Unnamed: 7             B  \\\n",
       "0                                                            ug/kg   \n",
       "1                     LOQ  (Limit of quantification)    304.331121   \n",
       "3  % Recovery on Certified Reference Material Tom...    113.335106   \n",
       "4                          % Accuracy on internal QC     112.61725   \n",
       "6                                                NaN  19706.300168   \n",
       "\n",
       "              V  ...          Hg            Pb            Al            Fe  \\\n",
       "0         ug/kg  ...       ug/kg         ug/kg         ug/kg         ug/kg   \n",
       "1       0.88827  ...    9.441312      2.560203            15            25   \n",
       "3    106.789041  ...  107.330208    103.310833      107.3688      99.27482   \n",
       "4    105.846024  ...  102.831584     99.240442         108.4         106.2   \n",
       "6  78890.846396  ...   21.780695  17824.978718  49953.358209  34291.044776   \n",
       "\n",
       "            Ca             K           Mg          Na           P           Si  \n",
       "0        ug/kg         ug/kg        ug/kg       ug/kg       ug/kg        ug/kg  \n",
       "1           50            50           50          50          50           50  \n",
       "3    97.681511    120.717379   102.902954   92.383496  101.250986          NaN  \n",
       "4        102.1         99.89        104.5       101.8  102.515152        102.5  \n",
       "6  3480.410448  11016.791045  2233.675373  629.664179  621.735075  1507.929104  \n",
       "\n",
       "[5 rows x 34 columns]"
      ]
     },
     "execution_count": 2,
     "metadata": {},
     "output_type": "execute_result"
    }
   ],
   "source": [
    "sheetname = \"Soil chemical analysis\"\n",
    "num_row_skip = 1\n",
    "df = pd.read_excel('SOIL AND PLANT DATA 04 Feb 2023.xlsx',\n",
    "                   sheet_name=sheetname,\n",
    "                   skiprows=num_row_skip\n",
    "                  ).dropna(axis = 0, how='all').dropna(axis = 1, how = 'all')\n",
    "df.head()"
   ]
  },
  {
   "cell_type": "code",
   "execution_count": 3,
   "id": "9ac279f4-ffec-4885-b8b5-57ea6c99ab3c",
   "metadata": {},
   "outputs": [],
   "source": [
    "#parse meta data\n",
    "meta_data = df[['Annonimised name', 'Cultivation Method', 'Season']].dropna()\n",
    "meta_data.columns = ['sample_id', 'cultivation_method', 'season'] \n",
    "meta_data['season'] = meta_data.season.str.strip()\n",
    "\n",
    "\n",
    "#parse analytical data\n",
    "analytical_data = df.loc[:,\"B\":].drop([0,1,4], axis = 0).dropna()\n",
    "analytical_data.columns = analytical_data.columns.str.lower()"
   ]
  },
  {
   "cell_type": "code",
   "execution_count": 4,
   "id": "1f1c7c92-c3e0-424d-8fe1-8b5aba0b2c06",
   "metadata": {
    "tags": []
   },
   "outputs": [
    {
     "data": {
      "text/html": [
       "<div>\n",
       "<style scoped>\n",
       "    .dataframe tbody tr th:only-of-type {\n",
       "        vertical-align: middle;\n",
       "    }\n",
       "\n",
       "    .dataframe tbody tr th {\n",
       "        vertical-align: top;\n",
       "    }\n",
       "\n",
       "    .dataframe thead th {\n",
       "        text-align: right;\n",
       "    }\n",
       "</style>\n",
       "<table border=\"1\" class=\"dataframe\">\n",
       "  <thead>\n",
       "    <tr style=\"text-align: right;\">\n",
       "      <th></th>\n",
       "      <th>sample_id</th>\n",
       "      <th>cultivation_method</th>\n",
       "      <th>b</th>\n",
       "      <th>v</th>\n",
       "      <th>cr</th>\n",
       "      <th>mn</th>\n",
       "      <th>co</th>\n",
       "      <th>ni</th>\n",
       "      <th>cu</th>\n",
       "      <th>zn</th>\n",
       "      <th>...</th>\n",
       "      <th>hg</th>\n",
       "      <th>pb</th>\n",
       "      <th>al</th>\n",
       "      <th>fe</th>\n",
       "      <th>ca</th>\n",
       "      <th>k</th>\n",
       "      <th>mg</th>\n",
       "      <th>na</th>\n",
       "      <th>p</th>\n",
       "      <th>si</th>\n",
       "    </tr>\n",
       "  </thead>\n",
       "  <tbody>\n",
       "    <tr>\n",
       "      <th>0</th>\n",
       "      <td>ODR1</td>\n",
       "      <td>Organic farm</td>\n",
       "      <td>19706.300168</td>\n",
       "      <td>78890.846396</td>\n",
       "      <td>59914.667471</td>\n",
       "      <td>489033.004126</td>\n",
       "      <td>12944.60525</td>\n",
       "      <td>26616.35729</td>\n",
       "      <td>41142.693518</td>\n",
       "      <td>49699.993229</td>\n",
       "      <td>...</td>\n",
       "      <td>21.780695</td>\n",
       "      <td>17824.978718</td>\n",
       "      <td>49953.358209</td>\n",
       "      <td>34291.044776</td>\n",
       "      <td>3480.410448</td>\n",
       "      <td>11016.791045</td>\n",
       "      <td>2233.675373</td>\n",
       "      <td>629.664179</td>\n",
       "      <td>621.735075</td>\n",
       "      <td>1507.929104</td>\n",
       "    </tr>\n",
       "    <tr>\n",
       "      <th>1</th>\n",
       "      <td>ODR2</td>\n",
       "      <td>Organic farm</td>\n",
       "      <td>24145.915883</td>\n",
       "      <td>91897.928802</td>\n",
       "      <td>63517.785473</td>\n",
       "      <td>206327.263287</td>\n",
       "      <td>8050.444952</td>\n",
       "      <td>27505.129994</td>\n",
       "      <td>49483.864739</td>\n",
       "      <td>49296.438821</td>\n",
       "      <td>...</td>\n",
       "      <td>13.028723</td>\n",
       "      <td>21826.353347</td>\n",
       "      <td>73642.645607</td>\n",
       "      <td>44610.069102</td>\n",
       "      <td>3111.056269</td>\n",
       "      <td>10784.797631</td>\n",
       "      <td>2442.744324</td>\n",
       "      <td>611.056269</td>\n",
       "      <td>763.573544</td>\n",
       "      <td>1989.634748</td>\n",
       "    </tr>\n",
       "    <tr>\n",
       "      <th>2</th>\n",
       "      <td>ODR3</td>\n",
       "      <td>Organic farm</td>\n",
       "      <td>19135.722924</td>\n",
       "      <td>74847.190344</td>\n",
       "      <td>50832.466455</td>\n",
       "      <td>127602.797387</td>\n",
       "      <td>6011.742602</td>\n",
       "      <td>19533.143751</td>\n",
       "      <td>27092.688336</td>\n",
       "      <td>32331.157644</td>\n",
       "      <td>...</td>\n",
       "      <td>9.14034</td>\n",
       "      <td>16962.434259</td>\n",
       "      <td>50867.052023</td>\n",
       "      <td>31445.086705</td>\n",
       "      <td>1170.038536</td>\n",
       "      <td>7105.009634</td>\n",
       "      <td>1740.847784</td>\n",
       "      <td>352.119461</td>\n",
       "      <td>499.518304</td>\n",
       "      <td>2021.194605</td>\n",
       "    </tr>\n",
       "    <tr>\n",
       "      <th>3</th>\n",
       "      <td>ODR4</td>\n",
       "      <td>Organic farm</td>\n",
       "      <td>33500.771361</td>\n",
       "      <td>99494.604543</td>\n",
       "      <td>84596.833395</td>\n",
       "      <td>314183.91958</td>\n",
       "      <td>9593.250032</td>\n",
       "      <td>36550.876996</td>\n",
       "      <td>32463.952835</td>\n",
       "      <td>35379.344973</td>\n",
       "      <td>...</td>\n",
       "      <td>16.191717</td>\n",
       "      <td>20876.430084</td>\n",
       "      <td>70474.777448</td>\n",
       "      <td>43397.626113</td>\n",
       "      <td>1820.969337</td>\n",
       "      <td>9673.590504</td>\n",
       "      <td>2276.953511</td>\n",
       "      <td>435.212661</td>\n",
       "      <td>381.454006</td>\n",
       "      <td>2648.862512</td>\n",
       "    </tr>\n",
       "    <tr>\n",
       "      <th>4</th>\n",
       "      <td>WH1</td>\n",
       "      <td>Organic farm</td>\n",
       "      <td>5890.180918</td>\n",
       "      <td>24439.124215</td>\n",
       "      <td>20456.186536</td>\n",
       "      <td>124002.162886</td>\n",
       "      <td>1659.871792</td>\n",
       "      <td>6065.916527</td>\n",
       "      <td>62331.543183</td>\n",
       "      <td>49616.384648</td>\n",
       "      <td>...</td>\n",
       "      <td>33.580731</td>\n",
       "      <td>5872.256083</td>\n",
       "      <td>14892.473118</td>\n",
       "      <td>10596.285435</td>\n",
       "      <td>4492.179863</td>\n",
       "      <td>1608.504399</td>\n",
       "      <td>1299.608993</td>\n",
       "      <td>297.1652</td>\n",
       "      <td>732.649071</td>\n",
       "      <td>1237.536657</td>\n",
       "    </tr>\n",
       "  </tbody>\n",
       "</table>\n",
       "<p>5 rows × 28 columns</p>\n",
       "</div>"
      ],
      "text/plain": [
       "  sample_id cultivation_method             b             v            cr  \\\n",
       "0      ODR1       Organic farm  19706.300168  78890.846396  59914.667471   \n",
       "1      ODR2       Organic farm  24145.915883  91897.928802  63517.785473   \n",
       "2      ODR3       Organic farm  19135.722924  74847.190344  50832.466455   \n",
       "3      ODR4       Organic farm  33500.771361  99494.604543  84596.833395   \n",
       "4       WH1       Organic farm   5890.180918  24439.124215  20456.186536   \n",
       "\n",
       "              mn           co            ni            cu            zn  ...  \\\n",
       "0  489033.004126  12944.60525   26616.35729  41142.693518  49699.993229  ...   \n",
       "1  206327.263287  8050.444952  27505.129994  49483.864739  49296.438821  ...   \n",
       "2  127602.797387  6011.742602  19533.143751  27092.688336  32331.157644  ...   \n",
       "3   314183.91958  9593.250032  36550.876996  32463.952835  35379.344973  ...   \n",
       "4  124002.162886  1659.871792   6065.916527  62331.543183  49616.384648  ...   \n",
       "\n",
       "          hg            pb            al            fe           ca  \\\n",
       "0  21.780695  17824.978718  49953.358209  34291.044776  3480.410448   \n",
       "1  13.028723  21826.353347  73642.645607  44610.069102  3111.056269   \n",
       "2    9.14034  16962.434259  50867.052023  31445.086705  1170.038536   \n",
       "3  16.191717  20876.430084  70474.777448  43397.626113  1820.969337   \n",
       "4  33.580731   5872.256083  14892.473118  10596.285435  4492.179863   \n",
       "\n",
       "              k           mg          na           p           si  \n",
       "0  11016.791045  2233.675373  629.664179  621.735075  1507.929104  \n",
       "1  10784.797631  2442.744324  611.056269  763.573544  1989.634748  \n",
       "2   7105.009634  1740.847784  352.119461  499.518304  2021.194605  \n",
       "3   9673.590504  2276.953511  435.212661  381.454006  2648.862512  \n",
       "4   1608.504399  1299.608993    297.1652  732.649071  1237.536657  \n",
       "\n",
       "[5 rows x 28 columns]"
      ]
     },
     "execution_count": 4,
     "metadata": {},
     "output_type": "execute_result"
    }
   ],
   "source": [
    "all_data = pd.concat([meta_data[['sample_id','cultivation_method']], analytical_data], axis = 1).reset_index(drop = True)\n",
    "all_data.head()"
   ]
  },
  {
   "cell_type": "markdown",
   "id": "ecbb395c-e55e-43fd-bde3-b5a5381053bb",
   "metadata": {},
   "source": [
    "# Elemental Impurity Data"
   ]
  },
  {
   "cell_type": "code",
   "execution_count": 5,
   "id": "872270fa-b738-4ad1-ab84-df9bcc94ff5c",
   "metadata": {},
   "outputs": [],
   "source": [
    "y = meta_data['cultivation_method'] != 'Organic farm'\n",
    "X1 = analytical_data.loc[y].pipe(fourth_root)\n",
    "X_val = analytical_data.loc[~y].pipe(fourth_root)"
   ]
  },
  {
   "cell_type": "code",
   "execution_count": 6,
   "id": "561bc38c-ccf8-42d0-ac46-4702c761b458",
   "metadata": {},
   "outputs": [
    {
     "data": {
      "text/plain": [
       "<AxesSubplot: xlabel='pc1', ylabel='pc2'>"
      ]
     },
     "execution_count": 6,
     "metadata": {},
     "output_type": "execute_result"
    },
    {
     "data": {
      "image/png": "[encoded data removed]",
      "text/plain": [
       "<Figure size 640x480 with 1 Axes>"
      ]
     },
     "metadata": {},
     "output_type": "display_data"
    }
   ],
   "source": [
    "pc_cols = ['pc1', 'pc2']\n",
    "pca = PCA(2).set_output(transform = 'pandas')\n",
    "scores = pca.fit_transform(X1)\n",
    "scores.columns = pc_cols\n",
    "\n",
    "scores.head()\n",
    "plt.style.use('ggplot')\n",
    "sns.scatterplot(data = scores, x = 'pc1', y = 'pc2')"
   ]
  },
  {
   "cell_type": "code",
   "execution_count": 7,
   "id": "eec2b1b1-bb96-4811-8adc-dcba4c51bcf2",
   "metadata": {},
   "outputs": [
    {
     "data": {
      "text/plain": [
       "array([ 1,  1,  1,  1,  1,  1, -1,  1,  1,  1,  1,  1,  1,  1,  1,  1,  1,\n",
       "        1,  1,  1,  1,  1,  1,  1,  1,  1, -1, -1,  1,  1, -1, -1])"
      ]
     },
     "execution_count": 7,
     "metadata": {},
     "output_type": "execute_result"
    }
   ],
   "source": [
    "clf = OneClassSVM(kernel='poly', degree=3, nu = 0.15)\n",
    "clf.fit_predict(X1)"
   ]
  },
  {
   "cell_type": "code",
   "execution_count": 8,
   "id": "adf3f445-4c7e-49a3-b900-33ecee1844d5",
   "metadata": {},
   "outputs": [
    {
     "data": {
      "text/plain": [
       "<AxesSubplot: xlabel='pc1', ylabel='pc2'>"
      ]
     },
     "execution_count": 8,
     "metadata": {},
     "output_type": "execute_result"
    },
    {
     "data": {
      "image/png": "[encoded data removed]",
      "text/plain": [
       "<Figure size 640x480 with 1 Axes>"
      ]
     },
     "metadata": {},
     "output_type": "display_data"
    }
   ],
   "source": [
    "scores['labels'] = clf.fit_predict(X1).astype(str)\n",
    "sns.scatterplot(data = scores, x = 'pc1', y = 'pc2', hue = 'labels')"
   ]
  },
  {
   "cell_type": "code",
   "execution_count": 9,
   "id": "ef74d385-f03b-45e0-a8e9-a673ce91a74d",
   "metadata": {},
   "outputs": [
    {
     "data": {
      "text/html": [
       "<div>\n",
       "<style scoped>\n",
       "    .dataframe tbody tr th:only-of-type {\n",
       "        vertical-align: middle;\n",
       "    }\n",
       "\n",
       "    .dataframe tbody tr th {\n",
       "        vertical-align: top;\n",
       "    }\n",
       "\n",
       "    .dataframe thead th {\n",
       "        text-align: right;\n",
       "    }\n",
       "</style>\n",
       "<table border=\"1\" class=\"dataframe\">\n",
       "  <thead>\n",
       "    <tr style=\"text-align: right;\">\n",
       "      <th></th>\n",
       "      <th>pc1</th>\n",
       "      <th>pc2</th>\n",
       "      <th>labels</th>\n",
       "    </tr>\n",
       "  </thead>\n",
       "  <tbody>\n",
       "    <tr>\n",
       "      <th>6</th>\n",
       "      <td>-10.903419</td>\n",
       "      <td>5.130704</td>\n",
       "      <td>1</td>\n",
       "    </tr>\n",
       "    <tr>\n",
       "      <th>7</th>\n",
       "      <td>-9.971386</td>\n",
       "      <td>1.519510</td>\n",
       "      <td>1</td>\n",
       "    </tr>\n",
       "    <tr>\n",
       "      <th>8</th>\n",
       "      <td>-5.231837</td>\n",
       "      <td>-0.231622</td>\n",
       "      <td>1</td>\n",
       "    </tr>\n",
       "    <tr>\n",
       "      <th>9</th>\n",
       "      <td>-10.972157</td>\n",
       "      <td>0.994835</td>\n",
       "      <td>1</td>\n",
       "    </tr>\n",
       "    <tr>\n",
       "      <th>11</th>\n",
       "      <td>2.793185</td>\n",
       "      <td>1.775910</td>\n",
       "      <td>1</td>\n",
       "    </tr>\n",
       "  </tbody>\n",
       "</table>\n",
       "</div>"
      ],
      "text/plain": [
       "          pc1       pc2 labels\n",
       "6  -10.903419  5.130704      1\n",
       "7   -9.971386  1.519510      1\n",
       "8   -5.231837 -0.231622      1\n",
       "9  -10.972157  0.994835      1\n",
       "11   2.793185  1.775910      1"
      ]
     },
     "execution_count": 9,
     "metadata": {},
     "output_type": "execute_result"
    }
   ],
   "source": [
    "scores_val = pca.transform(X_val)\n",
    "scores_val.columns = pc_cols\n",
    "\n",
    "scores_val['labels'] = clf.predict(X_val).astype(str)\n",
    "scores_val.head()"
   ]
  },
  {
   "cell_type": "code",
   "execution_count": 18,
   "id": "91729960-2d0a-48f2-bb18-aa9f0d768a53",
   "metadata": {},
   "outputs": [
    {
     "data": {
      "image/png": "[encoded data removed]",
      "text/plain": [
       "<Figure size 800x400 with 1 Axes>"
      ]
     },
     "metadata": {},
     "output_type": "display_data"
    }
   ],
   "source": [
    "plt.figure(figsize = (8,4))\n",
    "fig = sns.scatterplot(data = scores, x = 'pc1', y = 'pc2', hue = 'labels')\n",
    "fig = sns.scatterplot(data = scores_val, x = 'pc1', y = 'pc2', s = 200, \n",
    "                marker = 'X', hue = 'labels', legend = False\n"
   ]
  },
  {
   "cell_type": "code",
   "execution_count": null,
   "id": "d78853e3-e9fb-412e-b66f-d87027741161",
   "metadata": {},
   "outputs": [],
   "source": []
  },
  {
   "cell_type": "code",
   "execution_count": 11,
   "id": "9f117606-5e3c-4a1f-b9b1-a7fb05a579d8",
   "metadata": {},
   "outputs": [
    {
     "data": {
      "text/plain": [
       "<AxesSubplot: >"
      ]
     },
     "execution_count": 11,
     "metadata": {},
     "output_type": "execute_result"
    },
    {
     "data": {
      "image/png": "[encoded data removed]",
      "text/plain": [
       "<Figure size 640x480 with 1 Axes>"
      ]
     },
     "metadata": {},
     "output_type": "display_data"
    }
   ],
   "source": [
    "sns.barplot(x = pca.components_[0], y = X1.columns)"
   ]
  },
  {
   "cell_type": "code",
   "execution_count": 12,
   "id": "e55e3589-6dde-41d9-9a9d-beba086f0843",
   "metadata": {},
   "outputs": [
    {
     "data": {
      "text/plain": [
       "<AxesSubplot: >"
      ]
     },
     "execution_count": 12,
     "metadata": {},
     "output_type": "execute_result"
    },
    {
     "data": {
      "image/png": "[encoded data removed]",
      "text/plain": [
       "<Figure size 640x480 with 1 Axes>"
      ]
     },
     "metadata": {},
     "output_type": "display_data"
    }
   ],
   "source": [
    "X1.groupby(scores.labels).mean().T.plot.bar()"
   ]
  },
  {
   "cell_type": "code",
   "execution_count": null,
   "id": "7806741e-9200-4ef2-b113-f8a78a2a2b07",
   "metadata": {},
   "outputs": [],
   "source": []
  },
  {
   "cell_type": "code",
   "execution_count": null,
   "id": "a7dc1d86-8466-40a8-b5e5-56ad1677a4ae",
   "metadata": {},
   "outputs": [],
   "source": []
  }
 ],
 "metadata": {
  "kernelspec": {
   "display_name": "Python [conda env:ds]",
   "language": "python",
   "name": "conda-env-ds-py"
  },
  "language_info": {
   "codemirror_mode": {
    "name": "ipython",
    "version": 3
   },
   "file_extension": ".py",
   "mimetype": "text/x-python",
   "name": "python",
   "nbconvert_exporter": "python",
   "pygments_lexer": "ipython3",
   "version": "3.9.16"
  }
 },
 "nbformat": 4,
 "nbformat_minor": 5
}
