{
 "cells": [
  {
   "cell_type": "code",
   "execution_count": null,
   "metadata": {},
   "outputs": [],
   "source": [
    "# https://www.cdph.ca.gov/Programs/CCDPHP/DEODC/CLPPB/Pages/ZIPCodeData2019.aspx"
   ]
  },
  {
   "cell_type": "code",
   "execution_count": null,
   "metadata": {},
   "outputs": [],
   "source": [
    "import pandas as pd\n",
    "import plotly.express as px\n",
    "import json\n",
    "from urllib.request import urlopen"
   ]
  },
  {
   "cell_type": "code",
   "execution_count": null,
   "metadata": {},
   "outputs": [],
   "source": [
    "df = pd.read_excel('data/lead_data_cali.xlsx', usecols = 'A,B,D')\n",
    "df.head()"
   ]
  },
  {
   "cell_type": "code",
   "execution_count": null,
   "metadata": {},
   "outputs": [],
   "source": [
    "raw_path = 'https://raw.githubusercontent.com/OpenDataDE/State-zip-code-GeoJSON/refs/heads/master/ca_california_zip_codes_geo.min.json'\n",
    "\n",
    "import plotly.express as px\n",
    "from urllib.request import urlopen\n",
    "with urlopen(raw_path) as response:\n",
    "    zipcodes = json.load(response)"
   ]
  },
  {
   "cell_type": "code",
   "execution_count": null,
   "metadata": {},
   "outputs": [],
   "source": [
    "(zipcodes\n",
    "# ['features']\n",
    "# [0]\n",
    "# ['properties']\n",
    "# ['ZCTA5CE10']\n",
    "  )"
   ]
  },
  {
   "cell_type": "code",
   "execution_count": null,
   "metadata": {},
   "outputs": [],
   "source": [
    "center = dict(zip(['lat', 'lon'], [36.73701127179111, -119.78152856740166]))\n",
    "center"
   ]
  },
  {
   "cell_type": "code",
   "execution_count": null,
   "metadata": {},
   "outputs": [],
   "source": [
    "fig = px.choropleth(df,\n",
    "              geojson = zipcodes,\n",
    "              locations = df['ZIP Code'],\n",
    "              color = df['Percent of BLLs 4.5 or greater for children under 6'],\n",
    "              scope = 'usa',\n",
    "              featureidkey=\"properties.ZCTA5CE10\",\n",
    "              color_continuous_scale=\"Viridis\",\n",
    "              hover_data='Postal District Name',\n",
    "              center = center,\n",
    "              range_color=(0,0.05), \n",
    "              # projection=\"natural earth\"\n",
    "              )\n",
    "fig.show()"
   ]
  }
 ],
 "metadata": {
  "kernelspec": {
   "display_name": "analyticode_env",
   "language": "python",
   "name": "python3"
  },
  "language_info": {
   "codemirror_mode": {
    "name": "ipython",
    "version": 3
   },
   "file_extension": ".py",
   "mimetype": "text/x-python",
   "name": "python",
   "nbconvert_exporter": "python",
   "pygments_lexer": "ipython3",
   "version": "3.9.18"
  }
 },
 "nbformat": 4,
 "nbformat_minor": 2
}
