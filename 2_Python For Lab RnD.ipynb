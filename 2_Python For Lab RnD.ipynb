{
 "cells": [
  {
   "cell_type": "markdown",
   "id": "84e70c03-fa6b-45b6-8c87-c07cdd3d3db1",
   "metadata": {},
   "source": [
    "# Video 3. Python Basics for R&D Scientists - Opening Data Files"
   ]
  },
  {
   "cell_type": "code",
   "execution_count": null,
   "id": "180a9624-0427-42e3-b5d4-af586b6eca0d",
   "metadata": {},
   "outputs": [],
   "source": [
    "import pandas as pd"
   ]
  },
  {
   "cell_type": "code",
   "execution_count": null,
   "id": "a2f6953c-95be-4341-85f8-530965591690",
   "metadata": {},
   "outputs": [],
   "source": [
    "csv_file = 'data/iris.csv'\n",
    "txt_file = 'data/iris.txt'\n",
    "excel_file = 'data/iris.xlsx'"
   ]
  },
  {
   "cell_type": "code",
   "execution_count": null,
   "id": "92bcb286-ca4b-425a-9390-e64aa5cc23c2",
   "metadata": {},
   "outputs": [],
   "source": [
    "csv_df = pd.read_csv(csv_file)\n",
    "csv_df.head()"
   ]
  },
  {
   "cell_type": "code",
   "execution_count": null,
   "id": "d9764181-cebb-4ae7-ab2b-11c3b6eed781",
   "metadata": {},
   "outputs": [],
   "source": [
    "txt_df = pd.read_csv(txt_file)\n",
    "txt_df.head()"
   ]
  },
  {
   "cell_type": "code",
   "execution_count": null,
   "id": "b500c529-3404-489a-8392-888d467308b0",
   "metadata": {},
   "outputs": [],
   "source": [
    "txt_df = pd.read_csv(txt_file, sep='\\t')\n",
    "txt_df.head()"
   ]
  },
  {
   "cell_type": "code",
   "execution_count": null,
   "id": "115b65b4-5fc0-4deb-88b6-768e670c8294",
   "metadata": {},
   "outputs": [],
   "source": [
    "excel_df = pd.read_excel(excel_file)\n",
    "excel_df.head()"
   ]
  },
  {
   "cell_type": "code",
   "execution_count": null,
   "id": "54adf949-2c87-4d3f-8a50-fb45852b38ef",
   "metadata": {},
   "outputs": [],
   "source": [
    "excel_df = pd.read_excel(excel_file, skiprows=1)\n",
    "excel_df.head()"
   ]
  }
 ],
 "metadata": {
  "kernelspec": {
   "display_name": "Python [conda env:ds]",
   "language": "python",
   "name": "conda-env-ds-py"
  },
  "language_info": {
   "codemirror_mode": {
    "name": "ipython",
    "version": 3
   },
   "file_extension": ".py",
   "mimetype": "text/x-python",
   "name": "python",
   "nbconvert_exporter": "python",
   "pygments_lexer": "ipython3",
   "version": "3.9.13"
  }
 },
 "nbformat": 4,
 "nbformat_minor": 5
}
